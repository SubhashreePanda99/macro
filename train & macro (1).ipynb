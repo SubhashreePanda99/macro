{
 "cells": [
  {
   "cell_type": "code",
   "execution_count": 6,
   "metadata": {},
   "outputs": [],
   "source": [
    "import numpy as np\n",
    "import pandas as pd\n",
    "import matplotlib.pyplot as plt\n",
    "import seaborn as sns"
   ]
  },
  {
   "cell_type": "code",
   "execution_count": 147,
   "metadata": {},
   "outputs": [],
   "source": [
    "\n",
    "train = pd.read_csv(\"train.csv\")\n",
    "macro = pd.read_excel(\"macro_economic.xlsx\")\n",
    "test = pd.read_csv(\"test.csv\")"
   ]
  },
  {
   "cell_type": "code",
   "execution_count": 148,
   "metadata": {},
   "outputs": [],
   "source": [
    "macro = macro.join(macro[\"Year-Month\"].str.split(\"-\",expand = True).rename(columns={0:\"Year\",1:\"Month\"}))"
   ]
  },
  {
   "cell_type": "code",
   "execution_count": 149,
   "metadata": {},
   "outputs": [],
   "source": [
    "\n",
    "macro = macro.drop(\"Year-Month\", axis = 1)"
   ]
  },
  {
   "cell_type": "code",
   "execution_count": 150,
   "metadata": {},
   "outputs": [],
   "source": [
    "macro[\"Month\"] =macro[\"Month\"].str.replace(\"Jan\",\"1\")\n",
    "macro[\"Month\"] =macro[\"Month\"].str.replace(\"Feb\",\"2\")\n",
    "macro[\"Month\"]=macro[\"Month\"].str.replace(\"Mar\",\"3\")\n",
    "macro[\"Month\"]=macro[\"Month\"].str.replace(\"Apr\",\"4\")\n",
    "macro[\"Month\"]=macro[\"Month\"].str.replace(\"May\",\"5\")\n",
    "macro[\"Month\"]=macro[\"Month\"].str.replace(\"Jun\",\"6\")\n",
    "macro[\"Month\"]=macro[\"Month\"].str.replace(\"Jul\",\"7\")\n",
    "macro[\"Month\"]=macro[\"Month\"].str.replace(\"Aug\",\"8\")\n",
    "macro[\"Month\"]=macro[\"Month\"].str.replace(\"Sep\",\"9\")\n",
    "macro[\"Month\"]=macro[\"Month\"].str.replace(\"Oct\",\"10\")\n",
    "macro[\"Month\"]=macro[\"Month\"].str.replace(\"Nov\",\"11\")\n",
    "macro[\"Month\"]=macro[\"Month\"].str.replace(\"Dec\",\"12\")\n"
   ]
  },
  {
   "cell_type": "code",
   "execution_count": 151,
   "metadata": {},
   "outputs": [],
   "source": [
    "\n",
    "\n",
    "\n",
    "macro[\"Month\"] =pd.to_numeric(macro[\"Month\"])\n",
    "\n",
    "macro[\"Year\"] =pd.to_numeric(macro[\"Year\"])\n",
    "\n"
   ]
  },
  {
   "cell_type": "code",
   "execution_count": 152,
   "metadata": {},
   "outputs": [],
   "source": [
    "train[\"data\"]= \"train\"\n",
    "test[\"data\"] = \"test\""
   ]
  },
  {
   "cell_type": "code",
   "execution_count": 153,
   "metadata": {},
   "outputs": [
    {
     "data": {
      "text/plain": [
       "(216, 5)"
      ]
     },
     "execution_count": 153,
     "metadata": {},
     "output_type": "execute_result"
    }
   ],
   "source": [
    "train.shape"
   ]
  },
  {
   "cell_type": "code",
   "execution_count": 154,
   "metadata": {},
   "outputs": [
    {
     "data": {
      "text/html": [
       "<div>\n",
       "<style scoped>\n",
       "    .dataframe tbody tr th:only-of-type {\n",
       "        vertical-align: middle;\n",
       "    }\n",
       "\n",
       "    .dataframe tbody tr th {\n",
       "        vertical-align: top;\n",
       "    }\n",
       "\n",
       "    .dataframe thead th {\n",
       "        text-align: right;\n",
       "    }\n",
       "</style>\n",
       "<table border=\"1\" class=\"dataframe\">\n",
       "  <thead>\n",
       "    <tr style=\"text-align: right;\">\n",
       "      <th></th>\n",
       "      <th>Year</th>\n",
       "      <th>Month</th>\n",
       "      <th>ProductCategory</th>\n",
       "      <th>Sales(In ThousandDollars)</th>\n",
       "      <th>data</th>\n",
       "    </tr>\n",
       "  </thead>\n",
       "  <tbody>\n",
       "    <tr>\n",
       "      <th>0</th>\n",
       "      <td>2015</td>\n",
       "      <td>1</td>\n",
       "      <td>WomenClothing</td>\n",
       "      <td>NaN</td>\n",
       "      <td>test</td>\n",
       "    </tr>\n",
       "    <tr>\n",
       "      <th>1</th>\n",
       "      <td>2015</td>\n",
       "      <td>1</td>\n",
       "      <td>MenClothing</td>\n",
       "      <td>NaN</td>\n",
       "      <td>test</td>\n",
       "    </tr>\n",
       "    <tr>\n",
       "      <th>2</th>\n",
       "      <td>2015</td>\n",
       "      <td>1</td>\n",
       "      <td>OtherClothing</td>\n",
       "      <td>NaN</td>\n",
       "      <td>test</td>\n",
       "    </tr>\n",
       "    <tr>\n",
       "      <th>3</th>\n",
       "      <td>2015</td>\n",
       "      <td>2</td>\n",
       "      <td>WomenClothing</td>\n",
       "      <td>NaN</td>\n",
       "      <td>test</td>\n",
       "    </tr>\n",
       "    <tr>\n",
       "      <th>4</th>\n",
       "      <td>2015</td>\n",
       "      <td>2</td>\n",
       "      <td>MenClothing</td>\n",
       "      <td>NaN</td>\n",
       "      <td>test</td>\n",
       "    </tr>\n",
       "  </tbody>\n",
       "</table>\n",
       "</div>"
      ],
      "text/plain": [
       "   Year  Month ProductCategory  Sales(In ThousandDollars)  data\n",
       "0  2015      1   WomenClothing                        NaN  test\n",
       "1  2015      1     MenClothing                        NaN  test\n",
       "2  2015      1   OtherClothing                        NaN  test\n",
       "3  2015      2   WomenClothing                        NaN  test\n",
       "4  2015      2     MenClothing                        NaN  test"
      ]
     },
     "execution_count": 154,
     "metadata": {},
     "output_type": "execute_result"
    }
   ],
   "source": [
    "test.head()"
   ]
  },
  {
   "cell_type": "code",
   "execution_count": 155,
   "metadata": {},
   "outputs": [
    {
     "data": {
      "text/plain": [
       "train    216\n",
       "test      36\n",
       "Name: data, dtype: int64"
      ]
     },
     "execution_count": 155,
     "metadata": {},
     "output_type": "execute_result"
    }
   ],
   "source": [
    "tt = pd.concat([train,test])\n",
    "tt[\"data\"].value_counts()"
   ]
  },
  {
   "cell_type": "code",
   "execution_count": 156,
   "metadata": {},
   "outputs": [
    {
     "data": {
      "text/plain": [
       "(96, 19)"
      ]
     },
     "execution_count": 156,
     "metadata": {},
     "output_type": "execute_result"
    }
   ],
   "source": [
    "macro.shape"
   ]
  },
  {
   "cell_type": "code",
   "execution_count": 157,
   "metadata": {},
   "outputs": [],
   "source": [
    "df = pd.merge(macro,tt, on=[\"Year\",\"Month\"], how=\"inner\")"
   ]
  },
  {
   "cell_type": "code",
   "execution_count": 158,
   "metadata": {},
   "outputs": [
    {
     "data": {
      "text/plain": [
       "(252, 22)"
      ]
     },
     "execution_count": 158,
     "metadata": {},
     "output_type": "execute_result"
    }
   ],
   "source": [
    "df.shape"
   ]
  },
  {
   "cell_type": "code",
   "execution_count": 159,
   "metadata": {},
   "outputs": [],
   "source": [
    "df.drop(\"PartyInPower\",axis = 1,inplace = True)"
   ]
  },
  {
   "cell_type": "code",
   "execution_count": 160,
   "metadata": {},
   "outputs": [
    {
     "data": {
      "text/plain": [
       "train    216\n",
       "test      36\n",
       "Name: data, dtype: int64"
      ]
     },
     "execution_count": 160,
     "metadata": {},
     "output_type": "execute_result"
    }
   ],
   "source": [
    "df[\"data\"].value_counts()"
   ]
  },
  {
   "cell_type": "code",
   "execution_count": 161,
   "metadata": {},
   "outputs": [],
   "source": [
    "df.drop(\"AdvertisingExpenses (in Thousand Dollars)\",axis = 1,inplace = True)"
   ]
  },
  {
   "cell_type": "code",
   "execution_count": 162,
   "metadata": {},
   "outputs": [],
   "source": [
    "df =pd.get_dummies(data = df, columns = [\"Month\",\"ProductCategory\"])"
   ]
  },
  {
   "cell_type": "code",
   "execution_count": 163,
   "metadata": {},
   "outputs": [
    {
     "data": {
      "text/plain": [
       "(252, 33)"
      ]
     },
     "execution_count": 163,
     "metadata": {},
     "output_type": "execute_result"
    }
   ],
   "source": [
    "df.shape"
   ]
  },
  {
   "cell_type": "code",
   "execution_count": 164,
   "metadata": {},
   "outputs": [
    {
     "data": {
      "text/plain": [
       "train    216\n",
       "test      36\n",
       "Name: data, dtype: int64"
      ]
     },
     "execution_count": 164,
     "metadata": {},
     "output_type": "execute_result"
    }
   ],
   "source": [
    "df[\"data\"].value_counts()"
   ]
  },
  {
   "cell_type": "code",
   "execution_count": 165,
   "metadata": {},
   "outputs": [],
   "source": [
    "train = df[df[\"data\"]== \"train\"]"
   ]
  },
  {
   "cell_type": "code",
   "execution_count": 166,
   "metadata": {},
   "outputs": [
    {
     "data": {
      "text/plain": [
       "(216, 33)"
      ]
     },
     "execution_count": 166,
     "metadata": {},
     "output_type": "execute_result"
    }
   ],
   "source": [
    "train.shape"
   ]
  },
  {
   "cell_type": "code",
   "execution_count": 167,
   "metadata": {},
   "outputs": [],
   "source": [
    "test = df[df[\"data\"]== \"test\"]"
   ]
  },
  {
   "cell_type": "code",
   "execution_count": 168,
   "metadata": {},
   "outputs": [
    {
     "data": {
      "text/plain": [
       "(36, 33)"
      ]
     },
     "execution_count": 168,
     "metadata": {},
     "output_type": "execute_result"
    }
   ],
   "source": [
    "test.shape"
   ]
  },
  {
   "cell_type": "code",
   "execution_count": 169,
   "metadata": {},
   "outputs": [],
   "source": [
    "test.drop([\"data\",\"Sales(In ThousandDollars)\"], axis = 1, inplace = True)"
   ]
  },
  {
   "cell_type": "code",
   "execution_count": 170,
   "metadata": {},
   "outputs": [],
   "source": [
    "train.drop([\"data\"], axis = 1, inplace = True)"
   ]
  },
  {
   "cell_type": "code",
   "execution_count": 177,
   "metadata": {},
   "outputs": [
    {
     "name": "stdout",
     "output_type": "stream",
     "text": [
      "<class 'pandas.core.frame.DataFrame'>\n",
      "Int64Index: 204 entries, 0 to 215\n",
      "Data columns (total 32 columns):\n",
      "Monthly Nominal GDP Index (inMillion$)                               204 non-null float64\n",
      "Monthly Real GDP Index (inMillion$)                                  204 non-null float64\n",
      "CPI                                                                  204 non-null float64\n",
      "unemployment rate                                                    204 non-null float64\n",
      "CommercialBankInterestRateonCreditCardPlans                          204 non-null float64\n",
      "Finance Rate on Personal Loans at Commercial Banks, 24 Month Loan    204 non-null float64\n",
      "Earnings or wages  in dollars per hour                               204 non-null float64\n",
      "Cotton Monthly Price - US cents per Pound(lbs)                       204 non-null float64\n",
      "Change(in%)                                                          204 non-null float64\n",
      "Average upland planted(million acres)                                204 non-null float64\n",
      "Average upland harvested(million acres)                              204 non-null float64\n",
      "yieldperharvested acre                                               204 non-null int64\n",
      "Production (in  480-lb netweright in million bales)                  204 non-null float64\n",
      "Mill use  (in  480-lb netweright in million bales)                   204 non-null float64\n",
      "Exports                                                              204 non-null float64\n",
      "Year                                                                 204 non-null int64\n",
      "Sales(In ThousandDollars)                                            204 non-null float64\n",
      "Month_1                                                              204 non-null uint8\n",
      "Month_2                                                              204 non-null uint8\n",
      "Month_3                                                              204 non-null uint8\n",
      "Month_4                                                              204 non-null uint8\n",
      "Month_5                                                              204 non-null uint8\n",
      "Month_6                                                              204 non-null uint8\n",
      "Month_7                                                              204 non-null uint8\n",
      "Month_8                                                              204 non-null uint8\n",
      "Month_9                                                              204 non-null uint8\n",
      "Month_10                                                             204 non-null uint8\n",
      "Month_11                                                             204 non-null uint8\n",
      "Month_12                                                             204 non-null uint8\n",
      "ProductCategory_MenClothing                                          204 non-null uint8\n",
      "ProductCategory_OtherClothing                                        204 non-null uint8\n",
      "ProductCategory_WomenClothing                                        204 non-null uint8\n",
      "dtypes: float64(15), int64(2), uint8(15)\n",
      "memory usage: 31.7 KB\n"
     ]
    }
   ],
   "source": [
    "train.info()"
   ]
  },
  {
   "cell_type": "code",
   "execution_count": 178,
   "metadata": {},
   "outputs": [
    {
     "name": "stdout",
     "output_type": "stream",
     "text": [
      "<class 'pandas.core.frame.DataFrame'>\n",
      "Int64Index: 36 entries, 216 to 251\n",
      "Data columns (total 31 columns):\n",
      "Monthly Nominal GDP Index (inMillion$)                               36 non-null float64\n",
      "Monthly Real GDP Index (inMillion$)                                  36 non-null float64\n",
      "CPI                                                                  36 non-null float64\n",
      "unemployment rate                                                    36 non-null float64\n",
      "CommercialBankInterestRateonCreditCardPlans                          36 non-null float64\n",
      "Finance Rate on Personal Loans at Commercial Banks, 24 Month Loan    36 non-null float64\n",
      "Earnings or wages  in dollars per hour                               36 non-null float64\n",
      "Cotton Monthly Price - US cents per Pound(lbs)                       36 non-null float64\n",
      "Change(in%)                                                          36 non-null float64\n",
      "Average upland planted(million acres)                                36 non-null float64\n",
      "Average upland harvested(million acres)                              36 non-null float64\n",
      "yieldperharvested acre                                               36 non-null int64\n",
      "Production (in  480-lb netweright in million bales)                  36 non-null float64\n",
      "Mill use  (in  480-lb netweright in million bales)                   36 non-null float64\n",
      "Exports                                                              36 non-null float64\n",
      "Year                                                                 36 non-null int64\n",
      "Month_1                                                              36 non-null uint8\n",
      "Month_2                                                              36 non-null uint8\n",
      "Month_3                                                              36 non-null uint8\n",
      "Month_4                                                              36 non-null uint8\n",
      "Month_5                                                              36 non-null uint8\n",
      "Month_6                                                              36 non-null uint8\n",
      "Month_7                                                              36 non-null uint8\n",
      "Month_8                                                              36 non-null uint8\n",
      "Month_9                                                              36 non-null uint8\n",
      "Month_10                                                             36 non-null uint8\n",
      "Month_11                                                             36 non-null uint8\n",
      "Month_12                                                             36 non-null uint8\n",
      "ProductCategory_MenClothing                                          36 non-null uint8\n",
      "ProductCategory_OtherClothing                                        36 non-null uint8\n",
      "ProductCategory_WomenClothing                                        36 non-null uint8\n",
      "dtypes: float64(14), int64(2), uint8(15)\n",
      "memory usage: 5.3 KB\n"
     ]
    }
   ],
   "source": [
    "test.info()"
   ]
  },
  {
   "cell_type": "code",
   "execution_count": 179,
   "metadata": {},
   "outputs": [
    {
     "name": "stderr",
     "output_type": "stream",
     "text": [
      "C:\\Users\\Amala\\Anaconda3\\lib\\site-packages\\ipykernel_launcher.py:1: SettingWithCopyWarning: \n",
      "A value is trying to be set on a copy of a slice from a DataFrame\n",
      "\n",
      "See the caveats in the documentation: http://pandas.pydata.org/pandas-docs/stable/indexing.html#indexing-view-versus-copy\n",
      "  \"\"\"Entry point for launching an IPython kernel.\n"
     ]
    }
   ],
   "source": [
    "train.dropna(axis = 0, inplace = True)"
   ]
  },
  {
   "cell_type": "code",
   "execution_count": 183,
   "metadata": {},
   "outputs": [],
   "source": [
    "x = train.drop(\"Sales(In ThousandDollars)\",axis = 1)"
   ]
  },
  {
   "cell_type": "code",
   "execution_count": 184,
   "metadata": {},
   "outputs": [],
   "source": [
    "y = train[\"Sales(In ThousandDollars)\"]"
   ]
  },
  {
   "cell_type": "code",
   "execution_count": 185,
   "metadata": {},
   "outputs": [],
   "source": [
    "from sklearn.model_selection import train_test_split"
   ]
  },
  {
   "cell_type": "code",
   "execution_count": 186,
   "metadata": {},
   "outputs": [],
   "source": [
    "xtrain,xtest,ytrain,ytest = train_test_split(x,y, test_size = 0.3, random_state=3)"
   ]
  },
  {
   "cell_type": "code",
   "execution_count": 187,
   "metadata": {},
   "outputs": [
    {
     "name": "stderr",
     "output_type": "stream",
     "text": [
      "C:\\Users\\Amala\\Anaconda3\\lib\\site-packages\\sklearn\\preprocessing\\data.py:645: DataConversionWarning: Data with input dtype uint8, int64, float64 were all converted to float64 by StandardScaler.\n",
      "  return self.partial_fit(X, y)\n",
      "C:\\Users\\Amala\\Anaconda3\\lib\\site-packages\\sklearn\\base.py:464: DataConversionWarning: Data with input dtype uint8, int64, float64 were all converted to float64 by StandardScaler.\n",
      "  return self.fit(X, **fit_params).transform(X)\n",
      "C:\\Users\\Amala\\Anaconda3\\lib\\site-packages\\sklearn\\preprocessing\\data.py:645: DataConversionWarning: Data with input dtype uint8, int64, float64 were all converted to float64 by StandardScaler.\n",
      "  return self.partial_fit(X, y)\n",
      "C:\\Users\\Amala\\Anaconda3\\lib\\site-packages\\sklearn\\base.py:464: DataConversionWarning: Data with input dtype uint8, int64, float64 were all converted to float64 by StandardScaler.\n",
      "  return self.fit(X, **fit_params).transform(X)\n"
     ]
    }
   ],
   "source": [
    "from sklearn.preprocessing import StandardScaler\n",
    "sc = StandardScaler()\n",
    "Xtrain = sc.fit_transform(xtrain)\n",
    "Xtest = sc.fit_transform(xtest)"
   ]
  },
  {
   "cell_type": "markdown",
   "metadata": {},
   "source": [
    "# LinearRegression"
   ]
  },
  {
   "cell_type": "code",
   "execution_count": 190,
   "metadata": {},
   "outputs": [],
   "source": [
    "from sklearn.linear_model import LinearRegression"
   ]
  },
  {
   "cell_type": "code",
   "execution_count": 191,
   "metadata": {},
   "outputs": [],
   "source": [
    "lr = LinearRegression()"
   ]
  },
  {
   "cell_type": "markdown",
   "metadata": {},
   "source": [
    "# before scaling"
   ]
  },
  {
   "cell_type": "code",
   "execution_count": 192,
   "metadata": {},
   "outputs": [
    {
     "data": {
      "text/plain": [
       "LinearRegression(copy_X=True, fit_intercept=True, n_jobs=None,\n",
       "         normalize=False)"
      ]
     },
     "execution_count": 192,
     "metadata": {},
     "output_type": "execute_result"
    }
   ],
   "source": [
    "lr.fit(xtrain,ytrain)"
   ]
  },
  {
   "cell_type": "code",
   "execution_count": 193,
   "metadata": {},
   "outputs": [
    {
     "data": {
      "text/plain": [
       "array([1958.70439079, 1132.40964599, 1089.45792606, 1059.87665442,\n",
       "        772.12284184,   58.9440286 , 3284.57147422,  642.3550444 ,\n",
       "        213.14725541,  495.0826509 , 1087.6846196 , 1363.69565298,\n",
       "        976.56529788, 2950.31247599,  509.17884235, 1522.56576849,\n",
       "       3380.29579856,  418.68038869, 3517.45355805, 3596.84643783,\n",
       "       4310.12082247,  284.15693076,  939.8345399 , 2864.18546012,\n",
       "        446.85761785, 1390.67700701,  905.34954703, 3175.33438758,\n",
       "       3135.36646996, 1738.51204852,  830.08985977, 3177.40606024,\n",
       "       1072.19370118,  192.27918228,  392.69662926, 3798.56519121,\n",
       "         85.82362942, 2858.43472751,  198.0299149 ,  838.30144071,\n",
       "       3220.97011003, 3140.45235026, 1786.75851887,  521.96225172,\n",
       "       1208.26146414, 3438.27838706, 2979.00784756,  566.27904816,\n",
       "       4016.7754418 , 4188.72131372,  618.41592899,  620.6746109 ,\n",
       "        623.68157518,  447.4734972 , 3184.26804601, 1350.61989657,\n",
       "       1123.81735866, 1005.31295679, 1302.37342622,  748.99092463,\n",
       "       3113.62904243, 1134.08410722])"
      ]
     },
     "execution_count": 193,
     "metadata": {},
     "output_type": "execute_result"
    }
   ],
   "source": [
    "predict = lr.predict(xtest)\n",
    "predict"
   ]
  },
  {
   "cell_type": "code",
   "execution_count": 194,
   "metadata": {},
   "outputs": [
    {
     "data": {
      "text/plain": [
       "0.8816990155496905"
      ]
     },
     "execution_count": 194,
     "metadata": {},
     "output_type": "execute_result"
    }
   ],
   "source": [
    "lr.score(xtest,ytest)"
   ]
  },
  {
   "cell_type": "markdown",
   "metadata": {},
   "source": [
    "# after scaling"
   ]
  },
  {
   "cell_type": "code",
   "execution_count": 195,
   "metadata": {},
   "outputs": [
    {
     "data": {
      "text/plain": [
       "LinearRegression(copy_X=True, fit_intercept=True, n_jobs=None,\n",
       "         normalize=False)"
      ]
     },
     "execution_count": 195,
     "metadata": {},
     "output_type": "execute_result"
    }
   ],
   "source": [
    "lr.fit(Xtrain,ytrain)"
   ]
  },
  {
   "cell_type": "code",
   "execution_count": 234,
   "metadata": {},
   "outputs": [
    {
     "data": {
      "text/plain": [
       "array([1345.16587241, 1228.32061492, 1165.06583229, 1107.01256393,\n",
       "        884.43041317,  314.72027849, 3475.2785572 ,  795.45569981,\n",
       "        382.59821578,  696.5794998 , 1112.03088216, 1430.7559109 ,\n",
       "        994.87495427, 3076.36175005,  660.95189966,  963.3066511 ,\n",
       "       3487.27820742,  515.87655386, 3632.77004522, 3541.25678491,\n",
       "       4502.76508582,  473.47057882,  946.18158936, 2813.8587415 ,\n",
       "        652.49004609, 1332.04574296,  902.82771901, 3263.84307088,\n",
       "       3123.85966892, 1719.23856269,  894.37825807, 3016.88074504,\n",
       "       1084.80796612,  514.66501694,  587.85808845, 3831.21178615,\n",
       "        350.88301743, 3117.55618817,  210.96757028,  918.47663019,\n",
       "       3328.96030717, 3110.17703539, 1709.56918955,  732.74223874,\n",
       "       1266.28963448, 3487.32158439, 2903.00358116,  662.55278085,\n",
       "       3930.60113947, 3566.19782233,  872.38738598,  697.04431027,\n",
       "        644.23369783,  465.73932549, 3257.12265657, 1327.70996824,\n",
       "       1166.94804488, 1104.29323367, 1337.37934138,  681.97163125,\n",
       "       3068.63049671, 1156.64968691])"
      ]
     },
     "execution_count": 234,
     "metadata": {},
     "output_type": "execute_result"
    }
   ],
   "source": [
    "predict_S = lr.predict(Xtest)\n",
    "predict_S"
   ]
  },
  {
   "cell_type": "code",
   "execution_count": 197,
   "metadata": {},
   "outputs": [
    {
     "data": {
      "text/plain": [
       "0.8693351746120286"
      ]
     },
     "execution_count": 197,
     "metadata": {},
     "output_type": "execute_result"
    }
   ],
   "source": [
    "lr.score(Xtest,ytest)"
   ]
  },
  {
   "cell_type": "markdown",
   "metadata": {},
   "source": [
    "# submission"
   ]
  },
  {
   "cell_type": "code",
   "execution_count": 205,
   "metadata": {},
   "outputs": [
    {
     "name": "stderr",
     "output_type": "stream",
     "text": [
      "C:\\Users\\Amala\\Anaconda3\\lib\\site-packages\\sklearn\\preprocessing\\data.py:645: DataConversionWarning: Data with input dtype uint8, int64, float64 were all converted to float64 by StandardScaler.\n",
      "  return self.partial_fit(X, y)\n",
      "C:\\Users\\Amala\\Anaconda3\\lib\\site-packages\\sklearn\\base.py:464: DataConversionWarning: Data with input dtype uint8, int64, float64 were all converted to float64 by StandardScaler.\n",
      "  return self.fit(X, **fit_params).transform(X)\n"
     ]
    }
   ],
   "source": [
    "X = sc.fit_transform(x)"
   ]
  },
  {
   "cell_type": "code",
   "execution_count": 206,
   "metadata": {},
   "outputs": [
    {
     "data": {
      "text/plain": [
       "LinearRegression(copy_X=True, fit_intercept=True, n_jobs=None,\n",
       "         normalize=False)"
      ]
     },
     "execution_count": 206,
     "metadata": {},
     "output_type": "execute_result"
    }
   ],
   "source": []
  },
  {
   "cell_type": "code",
   "execution_count": 208,
   "metadata": {},
   "outputs": [],
   "source": [
    "lr.fit(x,y)\n",
    "test_pred = lr.predict(test)\n",
    "df1 = pd.DataFrame({\"S.No.\":np.arange(1,37),\"Sales\":test_pred})\n",
    "df1.to_csv(\"submission-A.csv\",index = False)"
   ]
  },
  {
   "cell_type": "code",
   "execution_count": 209,
   "metadata": {},
   "outputs": [],
   "source": [
    "lr.fit(X,y)\n",
    "test_pred = lr.predict(test)\n",
    "df1 = pd.DataFrame({\"S.No.\":np.arange(1,37),\"Sales\":test_pred})\n",
    "df1.to_csv(\"submission-B.csv\",index = False)"
   ]
  },
  {
   "cell_type": "markdown",
   "metadata": {},
   "source": [
    "# GradientBoostingRegressor"
   ]
  },
  {
   "cell_type": "code",
   "execution_count": 210,
   "metadata": {},
   "outputs": [],
   "source": [
    "from sklearn.ensemble import GradientBoostingRegressor"
   ]
  },
  {
   "cell_type": "code",
   "execution_count": 211,
   "metadata": {},
   "outputs": [],
   "source": [
    "GB = GradientBoostingRegressor()"
   ]
  },
  {
   "cell_type": "code",
   "execution_count": 212,
   "metadata": {},
   "outputs": [],
   "source": [
    "\n",
    "df1 = pd.DataFrame({\"S.No.\":np.arange(1,37),\"Sales\":test_pred})\n",
    "df1.to_csv(\"submission-C.csv\",index = False)"
   ]
  },
  {
   "cell_type": "code",
   "execution_count": 213,
   "metadata": {},
   "outputs": [],
   "source": [
    "GB.fit(X,y)\n",
    "test_pred = GB.predict(test)\n",
    "df1 = pd.DataFrame({\"S.No.\":np.arange(1,37),\"Sales\":test_pred})\n",
    "df1.to_csv(\"submission-D.csv\",index = False)"
   ]
  },
  {
   "cell_type": "code",
   "execution_count": 215,
   "metadata": {},
   "outputs": [],
   "source": [
    "GB.fit(xtrain,ytrain)\n",
    "test_pred = GB.predict(test)\n",
    "df1 = pd.DataFrame({\"S.No.\":np.arange(1,37),\"Sales\":test_pred})\n",
    "df1.to_csv(\"submission-E.csv\",index = False)"
   ]
  },
  {
   "cell_type": "code",
   "execution_count": 226,
   "metadata": {},
   "outputs": [],
   "source": [
    "GB.fit(X,y)\n",
    "test_pred = GB.predict(Test)\n",
    "df1 = pd.DataFrame({\"S.No.\":np.arange(1,37),\"Sales\":test_pred})\n",
    "df1.to_csv(\"submission-L.csv\",index = False)"
   ]
  },
  {
   "cell_type": "markdown",
   "metadata": {},
   "source": [
    "# Extra trees Regressor"
   ]
  },
  {
   "cell_type": "code",
   "execution_count": 216,
   "metadata": {},
   "outputs": [],
   "source": [
    "from sklearn.ensemble import ExtraTreesRegressor\n",
    "etr = ExtraTreesRegressor()"
   ]
  },
  {
   "cell_type": "code",
   "execution_count": 219,
   "metadata": {},
   "outputs": [],
   "source": [
    "etr.fit(x,y)\n",
    "test_pred = etr.predict(test)\n",
    "df1 = pd.DataFrame({\"S.No.\":np.arange(1,37),\"Sales\":test_pred})\n",
    "df1.to_csv(\"submission-G.csv\",index = False)"
   ]
  },
  {
   "cell_type": "code",
   "execution_count": 220,
   "metadata": {},
   "outputs": [],
   "source": [
    "etr.fit(X,y)\n",
    "test_pred = etr.predict(test)\n",
    "df1 = pd.DataFrame({\"S.No.\":np.arange(1,37),\"Sales\":test_pred})\n",
    "df1.to_csv(\"submission-H.csv\",index = False)"
   ]
  },
  {
   "cell_type": "code",
   "execution_count": 221,
   "metadata": {},
   "outputs": [],
   "source": [
    "etr.fit(xtrain,ytrain)\n",
    "test_pred = etr.predict(test)\n",
    "df1 = pd.DataFrame({\"S.No.\":np.arange(1,37),\"Sales\":test_pred})\n",
    "df1.to_csv(\"submission-I.csv\",index = False)"
   ]
  },
  {
   "cell_type": "code",
   "execution_count": 222,
   "metadata": {},
   "outputs": [],
   "source": [
    "etr.fit(Xtrain,ytrain)\n",
    "test_pred = etr.predict(test)\n",
    "df1 = pd.DataFrame({\"S.No.\":np.arange(1,37),\"Sales\":test_pred})\n",
    "df1.to_csv(\"submission-J.csv\",index = False)"
   ]
  },
  {
   "cell_type": "code",
   "execution_count": 223,
   "metadata": {},
   "outputs": [
    {
     "name": "stderr",
     "output_type": "stream",
     "text": [
      "C:\\Users\\Amala\\Anaconda3\\lib\\site-packages\\sklearn\\preprocessing\\data.py:645: DataConversionWarning: Data with input dtype uint8, int64, float64 were all converted to float64 by StandardScaler.\n",
      "  return self.partial_fit(X, y)\n",
      "C:\\Users\\Amala\\Anaconda3\\lib\\site-packages\\sklearn\\base.py:464: DataConversionWarning: Data with input dtype uint8, int64, float64 were all converted to float64 by StandardScaler.\n",
      "  return self.fit(X, **fit_params).transform(X)\n"
     ]
    }
   ],
   "source": [
    "Test = sc.fit_transform(test)"
   ]
  },
  {
   "cell_type": "code",
   "execution_count": 224,
   "metadata": {},
   "outputs": [],
   "source": [
    "etr.fit(X,y)\n",
    "test_pred = etr.predict(Test)\n",
    "df1 = pd.DataFrame({\"S.No.\":np.arange(1,37),\"Sales\":test_pred})\n",
    "df1.to_csv(\"submission-K.csv\",index = False)"
   ]
  },
  {
   "cell_type": "markdown",
   "metadata": {},
   "source": [
    "# RandomForest"
   ]
  },
  {
   "cell_type": "code",
   "execution_count": 227,
   "metadata": {},
   "outputs": [],
   "source": [
    "from sklearn.ensemble import RandomForestRegressor"
   ]
  },
  {
   "cell_type": "code",
   "execution_count": 228,
   "metadata": {},
   "outputs": [],
   "source": [
    "rf = RandomForestRegressor()"
   ]
  },
  {
   "cell_type": "code",
   "execution_count": 229,
   "metadata": {},
   "outputs": [
    {
     "name": "stderr",
     "output_type": "stream",
     "text": [
      "C:\\Users\\Amala\\Anaconda3\\lib\\site-packages\\sklearn\\ensemble\\forest.py:246: FutureWarning: The default value of n_estimators will change from 10 in version 0.20 to 100 in 0.22.\n",
      "  \"10 in version 0.20 to 100 in 0.22.\", FutureWarning)\n"
     ]
    }
   ],
   "source": [
    "rf.fit(x,y)\n",
    "test_pred = rf.predict(test)\n",
    "df1 = pd.DataFrame({\"S.No.\":np.arange(1,37),\"Sales\":test_pred})\n",
    "df1.to_csv(\"submission-M.csv\",index = False)"
   ]
  },
  {
   "cell_type": "code",
   "execution_count": 230,
   "metadata": {},
   "outputs": [],
   "source": [
    "rf.fit(X,y)\n",
    "test_pred = rf.predict(Test)\n",
    "df1 = pd.DataFrame({\"S.No.\":np.arange(1,37),\"Sales\":test_pred})\n",
    "df1.to_csv(\"submission-N.csv\",index = False)"
   ]
  },
  {
   "cell_type": "code",
   "execution_count": 231,
   "metadata": {},
   "outputs": [],
   "source": [
    "rf.fit(xtrain,ytrain)\n",
    "test_pred = rf.predict(test)\n",
    "df1 = pd.DataFrame({\"S.No.\":np.arange(1,37),\"Sales\":test_pred})\n",
    "df1.to_csv(\"submission-O.csv\",index = False)"
   ]
  },
  {
   "cell_type": "code",
   "execution_count": 232,
   "metadata": {},
   "outputs": [],
   "source": [
    "rf.fit(Xtrain,ytrain)\n",
    "test_pred = rf.predict(test)\n",
    "df1 = pd.DataFrame({\"S.No.\":np.arange(1,37),\"Sales\":test_pred})\n",
    "df1.to_csv(\"submission-P.csv\",index = False)"
   ]
  },
  {
   "cell_type": "code",
   "execution_count": 233,
   "metadata": {},
   "outputs": [],
   "source": [
    "rf.fit(Xtrain,ytrain)\n",
    "test_pred = rf.predict(Test)\n",
    "df1 = pd.DataFrame({\"S.No.\":np.arange(1,37),\"Sales\":test_pred})\n",
    "df1.to_csv(\"submission-Q.csv\",index = False)"
   ]
  },
  {
   "cell_type": "markdown",
   "metadata": {},
   "source": [
    "# adaboost"
   ]
  },
  {
   "cell_type": "code",
   "execution_count": 235,
   "metadata": {},
   "outputs": [],
   "source": [
    "from sklearn.ensemble import AdaBoostRegressor\n",
    "ada = AdaBoostRegressor()"
   ]
  },
  {
   "cell_type": "code",
   "execution_count": 236,
   "metadata": {},
   "outputs": [],
   "source": [
    "ada.fit(x,y)\n",
    "test_pred = ada.predict(test)\n",
    "df1 = pd.DataFrame({\"S.No.\":np.arange(1,37),\"Sales\":test_pred})\n",
    "df1.to_csv(\"submission-R.csv\",index = False)"
   ]
  },
  {
   "cell_type": "code",
   "execution_count": 237,
   "metadata": {},
   "outputs": [],
   "source": [
    "ada.fit(X,y)\n",
    "test_pred = ada.predict(Test)\n",
    "df1 = pd.DataFrame({\"S.No.\":np.arange(1,37),\"Sales\":test_pred})\n",
    "df1.to_csv(\"submission-S.csv\",index = False)"
   ]
  },
  {
   "cell_type": "code",
   "execution_count": 238,
   "metadata": {},
   "outputs": [],
   "source": [
    "ada.fit(xtrain,ytrain)\n",
    "test_pred = ada.predict(test)\n",
    "df1 = pd.DataFrame({\"S.No.\":np.arange(1,37),\"Sales\":test_pred})\n",
    "df1.to_csv(\"submission-T.csv\",index = False)"
   ]
  },
  {
   "cell_type": "code",
   "execution_count": 239,
   "metadata": {},
   "outputs": [],
   "source": [
    "ada.fit(Xtrain,ytrain)\n",
    "test_pred = ada.predict(test)\n",
    "df1 = pd.DataFrame({\"S.No.\":np.arange(1,37),\"Sales\":test_pred})\n",
    "df1.to_csv(\"submission-U.csv\",index = False)"
   ]
  },
  {
   "cell_type": "code",
   "execution_count": 240,
   "metadata": {},
   "outputs": [],
   "source": [
    "ada.fit(Xtrain,ytrain)\n",
    "test_pred = ada.predict(Test)\n",
    "df1 = pd.DataFrame({\"S.No.\":np.arange(1,37),\"Sales\":test_pred})\n",
    "df1.to_csv(\"submission-V.csv\",index = False)"
   ]
  },
  {
   "cell_type": "code",
   "execution_count": null,
   "metadata": {},
   "outputs": [],
   "source": []
  }
 ],
 "metadata": {
  "kernelspec": {
   "display_name": "Python 3",
   "language": "python",
   "name": "python3"
  },
  "language_info": {
   "codemirror_mode": {
    "name": "ipython",
    "version": 3
   },
   "file_extension": ".py",
   "mimetype": "text/x-python",
   "name": "python",
   "nbconvert_exporter": "python",
   "pygments_lexer": "ipython3",
   "version": "3.7.3"
  }
 },
 "nbformat": 4,
 "nbformat_minor": 2
}
